{
 "cells": [
  {
   "cell_type": "code",
   "execution_count": 11,
   "metadata": {
    "collapsed": true
   },
   "outputs": [],
   "source": [
    "%matplotlib inline\n",
    "#LOAD LIBRARIES\n",
    "import csv\n",
    "import pandas as pd\n",
    "import matplotlib.pyplot as plt\n",
    "from sqlalchemy import create_engine # database connection\n",
    "import datetime as dt\n",
    "from IPython.display import display\n",
    "from sklearn import linear_model as sk\n",
    "from sklearn.linear_model import SGDRegressor\n",
    "from sklearn.utils import shuffle\n",
    "import numpy as np"
   ]
  },
  {
   "cell_type": "code",
   "execution_count": 12,
   "metadata": {
    "collapsed": false
   },
   "outputs": [
    {
     "name": "stdout",
     "output_type": "stream",
     "text": [
      "Wall time: 111 ms\n"
     ]
    }
   ],
   "source": [
    "%%time\n",
    "#CONNECT TO THE DATABASE\n",
    "import sqlite3\n",
    "disk_engine=sqlite3.connect('final.db')"
   ]
  },
  {
   "cell_type": "code",
   "execution_count": 13,
   "metadata": {
    "collapsed": false
   },
   "outputs": [
    {
     "data": {
      "text/html": [
       "<div>\n",
       "<table border=\"1\" class=\"dataframe\">\n",
       "  <thead>\n",
       "    <tr style=\"text-align: right;\">\n",
       "      <th></th>\n",
       "      <th>index</th>\n",
       "      <th>Year</th>\n",
       "      <th>Month</th>\n",
       "      <th>DayofMonth</th>\n",
       "      <th>CRSDepTime</th>\n",
       "      <th>UniqueCarrier</th>\n",
       "      <th>Origin</th>\n",
       "      <th>Dest</th>\n",
       "      <th>Cancelled</th>\n",
       "    </tr>\n",
       "  </thead>\n",
       "  <tbody>\n",
       "    <tr>\n",
       "      <th>0</th>\n",
       "      <td>1</td>\n",
       "      <td>1987</td>\n",
       "      <td>10</td>\n",
       "      <td>14</td>\n",
       "      <td>730</td>\n",
       "      <td>PS</td>\n",
       "      <td>SAN</td>\n",
       "      <td>SFO</td>\n",
       "      <td>0</td>\n",
       "    </tr>\n",
       "    <tr>\n",
       "      <th>1</th>\n",
       "      <td>2</td>\n",
       "      <td>1987</td>\n",
       "      <td>10</td>\n",
       "      <td>15</td>\n",
       "      <td>730</td>\n",
       "      <td>PS</td>\n",
       "      <td>SAN</td>\n",
       "      <td>SFO</td>\n",
       "      <td>0</td>\n",
       "    </tr>\n",
       "    <tr>\n",
       "      <th>2</th>\n",
       "      <td>3</td>\n",
       "      <td>1987</td>\n",
       "      <td>10</td>\n",
       "      <td>17</td>\n",
       "      <td>730</td>\n",
       "      <td>PS</td>\n",
       "      <td>SAN</td>\n",
       "      <td>SFO</td>\n",
       "      <td>0</td>\n",
       "    </tr>\n",
       "  </tbody>\n",
       "</table>\n",
       "</div>"
      ],
      "text/plain": [
       "   index  Year  Month  DayofMonth  CRSDepTime UniqueCarrier Origin Dest  \\\n",
       "0      1  1987     10          14         730            PS    SAN  SFO   \n",
       "1      2  1987     10          15         730            PS    SAN  SFO   \n",
       "2      3  1987     10          17         730            PS    SAN  SFO   \n",
       "\n",
       "   Cancelled  \n",
       "0          0  \n",
       "1          0  \n",
       "2          0  "
      ]
     },
     "execution_count": 13,
     "metadata": {},
     "output_type": "execute_result"
    }
   ],
   "source": [
    "#CONNECTION TEST\n",
    "df = pd.read_sql_query('SELECT * FROM data LIMIT 3', disk_engine)\n",
    "df"
   ]
  },
  {
   "cell_type": "code",
   "execution_count": 14,
   "metadata": {
    "collapsed": false
   },
   "outputs": [
    {
     "name": "stdout",
     "output_type": "stream",
     "text": [
      "Wall time: 378 ms\n"
     ]
    }
   ],
   "source": [
    "%%time\n",
    "model = sk.SGDClassifier()\n",
    "classes= np.array([0,1])\n",
    "for i in range(0,100,10):\n",
    "    X_train = pd.read_sql_query('SELECT DayofMonth, Month, CRSDepTime '\n",
    "                            'FROM data '\n",
    "                           'LIMIT 10 OFFSET %i; ' %i, disk_engine)\n",
    "    \n",
    "    y_train = pd.read_sql_query('SELECT Cancelled '\n",
    "                           'FROM data '\n",
    "                           'LIMIT 10 OFFSET %i; ' %i, disk_engine)\n",
    "    \n",
    "    #X_train, y_train = shuffle(chunk_x, chunk_y)\n",
    "    model.partial_fit(X_train, y_train.values.ravel(),classes=classes )\n"
   ]
  },
  {
   "cell_type": "code",
   "execution_count": 15,
   "metadata": {
    "collapsed": false
   },
   "outputs": [
    {
     "name": "stdout",
     "output_type": "stream",
     "text": [
      "[0]\n"
     ]
    }
   ],
   "source": [
    "print model.predict([[1987, 10, 1505]])"
   ]
  },
  {
   "cell_type": "markdown",
   "metadata": {},
   "source": [
    "# NEW TEST"
   ]
  },
  {
   "cell_type": "code",
   "execution_count": 16,
   "metadata": {
    "collapsed": false
   },
   "outputs": [],
   "source": [
    "from sklearn.linear_model import SGDClassifier\n",
    "from sklearn.utils.class_weight import compute_class_weight\n",
    "import random\n",
    "\n",
    "from sklearn.utils.testing import assert_almost_equal\n",
    "from sklearn.utils.testing import assert_true\n",
    "from sklearn.utils.testing import assert_equal"
   ]
  },
  {
   "cell_type": "code",
   "execution_count": 28,
   "metadata": {
    "collapsed": false
   },
   "outputs": [
    {
     "name": "stdout",
     "output_type": "stream",
     "text": [
      "Wall time: 3min 17s\n"
     ]
    }
   ],
   "source": [
    "%%time\n",
    "\n",
    "#create a list with the features we wan to use\n",
    "feature_cols = ['Year','Month','CRSDepTime']\n",
    "\n",
    "#define the classifier\n",
    "classes = np.array([0,1])\n",
    "weights = {0: 1, 1: 10}\n",
    "SGDClass = SGDClassifier(class_weight=weights, \n",
    "                         #loss='log',\n",
    "                         alpha=0.01,\n",
    "                         #l1_ratio=1,\n",
    "                         #learning_rate='optimal',\n",
    "                         shuffle=True,\n",
    "                         #eta0=0.01\n",
    "                         )\n",
    "\n",
    "#compute_class_weight('auto', classes, y)\n",
    "for i in range(0,1000000,1000):\n",
    "    train = pd.read_sql_query('SELECT * '\n",
    "                              'FROM data '\n",
    "                              'LIMIT 1000 OFFSET %i;  '%i, disk_engine)\n",
    "    \n",
    "    X = train.loc[:,feature_cols]\n",
    "    y = train.Cancelled\n",
    "    \n",
    "    SGDClass.partial_fit(X,y,classes=classes)  "
   ]
  },
  {
   "cell_type": "code",
   "execution_count": 29,
   "metadata": {
    "collapsed": false
   },
   "outputs": [
    {
     "name": "stdout",
     "output_type": "stream",
     "text": [
      "Wall time: 11.2 s\n"
     ]
    }
   ],
   "source": [
    "%%time \n",
    "\n",
    "#load a test dataframe\n",
    "test = pd.read_sql_query('SELECT * '\n",
    "                        'FROM data '\n",
    "                        'LIMIT 1000000 OFFSET 3000000 ', disk_engine)\n",
    "X_new = test.loc[:,feature_cols]"
   ]
  },
  {
   "cell_type": "code",
   "execution_count": 30,
   "metadata": {
    "collapsed": false
   },
   "outputs": [
    {
     "name": "stdout",
     "output_type": "stream",
     "text": [
      "[0 0 1 ..., 1 1 1]\n",
      "534533\n",
      "0.4481 % is the REAL percentage of cancellations\n",
      "53.4533 % is the PREDICTED percentage of cancellations\n"
     ]
    }
   ],
   "source": [
    "#predict\n",
    "new_pred_class = SGDClass.predict(X_new)\n",
    "print new_pred_class\n",
    "\n",
    "yes_count=0\n",
    "for pred in new_pred_class:\n",
    "    if pred==1:\n",
    "        yes_count+=1\n",
    "        \n",
    "#see results\n",
    "#print len(new_pred_class)\n",
    "print yes_count\n",
    "print 100*(len(test[test['Cancelled']==1]))/(float(len(test))),'% is the REAL percentage of cancellations'\n",
    "print (yes_count*100)/(float(len(new_pred_class))),'% is the PREDICTED percentage of cancellations'"
   ]
  },
  {
   "cell_type": "code",
   "execution_count": 63,
   "metadata": {
    "collapsed": false
   },
   "outputs": [
    {
     "name": "stdout",
     "output_type": "stream",
     "text": [
      "[0]\n"
     ]
    }
   ],
   "source": [
    "#example flight\n",
    "print SGDClass.predict([[1987, 10, 1505]])"
   ]
  },
  {
   "cell_type": "code",
   "execution_count": 3,
   "metadata": {
    "collapsed": false
   },
   "outputs": [],
   "source": [
    "# CROSS VALIDATION IMPLEMENTATION - PERCENTAGE COMPARATION"
   ]
  },
  {
   "cell_type": "code",
   "execution_count": 10,
   "metadata": {
    "collapsed": false,
    "scrolled": true
   },
   "outputs": [
    {
     "name": "stdout",
     "output_type": "stream",
     "text": [
      "6999000\n",
      "New round, w1= 20\n"
     ]
    },
    {
     "ename": "AttributeError",
     "evalue": "'DataFrame' object has no attribute 'Cancelled'",
     "output_type": "error",
     "traceback": [
      "\u001b[1;31m---------------------------------------------------------------------------\u001b[0m",
      "\u001b[1;31mAttributeError\u001b[0m                            Traceback (most recent call last)",
      "\u001b[1;32m<ipython-input-10-ae9674318293>\u001b[0m in \u001b[0;36m<module>\u001b[1;34m()\u001b[0m\n\u001b[1;32m----> 1\u001b[1;33m \u001b[0mget_ipython\u001b[0m\u001b[1;33m(\u001b[0m\u001b[1;33m)\u001b[0m\u001b[1;33m.\u001b[0m\u001b[0mrun_cell_magic\u001b[0m\u001b[1;33m(\u001b[0m\u001b[1;34mu'time'\u001b[0m\u001b[1;33m,\u001b[0m \u001b[1;34mu''\u001b[0m\u001b[1;33m,\u001b[0m \u001b[1;34mu'\\n#create a list with the features we wan to use\\nfeature_cols = [\\'Month\\',\\'DayofMonth\\',\\'CRSDepTime\\']\\n\\n#define the classifier\\nclasses = np.array([0,1])\\n\\n#define variables for the process\\nw1=20\\nran = range(0, (7000000-1000))\\nprint len(ran)\\ncond = False\\n\\n#function to compute the new class weight for each iteration:\\ndef compute_weight (real_per, pred_per, w1, cond):\\n    diff = pred_per-real_per\\n    \\n    if diff == 0.0:\\n        cond=True\\n    elif 0<(diff)<3:\\n        cond=True\\n    elif 3<=(diff)<6:\\n        w1+=2\\n    elif 6<=(diff)<10:\\n        w1+=4\\n    elif 10<=(diff)<15:\\n        w1+=6\\n    elif (diff)>=15:\\n        w1+=10\\n    elif -3<=(diff)<0:\\n        cond=True\\n    elif -6<=(diff)<-3:\\n        w1-=2\\n    elif -10<=(diff)<-6:\\n        w1-=4\\n    elif -15<=(diff)<-10:\\n        w1-=6\\n    elif (diff)<-15:\\n        w1-=10\\n\\n    return w1,diff, cond\\n\\n#start the loop with false condition\\nwhile cond == False:\\n\\n    print \"New round, w1=\",w1\\n    #set weight balance\\n    weights = {0: 1, 1: w1}\\n    #initialize the classifier\\n    SGDClass = SGDClassifier(class_weight=weights, \\n                         #loss=\\'log\\',\\n                         alpha=1.0,\\n                         #l1_ratio=1,\\n                         #learning_rate=\\'optimal\\',\\n                         shuffle=True,\\n                         #eta0=0.01\\n                         )\\n    \\n    #Loop to train the classifier\\n    for i in range(0,1000000,10000):\\n        r = random.choice(ran)\\n        #print r\\n        #query for a chunck of the dataset to partial fit\\n        train = pd.read_sql_query(\\'SELECT * \\'\\n                                  \\'FROM data \\'\\n                                  \\'LIMIT 10000 OFFSET %i; \\'%r, disk_engine)\\n        \\n        #obtain the X and y, with the desired training features\\n        X = train.loc[:,feature_cols]\\n        y = train.Cancelled\\n        \\n        #Train the classifier\\n        SGDClass.partial_fit(X,y,classes=classes)\\n    print \"Load test dataframe\"\\n    #load a test dataframe\\n    test = pd.read_sql_query(\\'SELECT * \\'\\n                        \\'FROM data \\'\\n                        \\'LIMIT 10000 OFFSET %i; \\'%r, disk_engine)\\n    #Obtain the desired features for the test\\n    X_new = test.loc[:,feature_cols]\\n    print \"Making prediction\"\\n    #make prediction\\n    new_pred_class = SGDClass.predict(X_new)\\n    \\n    #count the cancellations\\n    yes_count=0\\n    for pred in new_pred_class:\\n        if pred==1:\\n            yes_count+=1\\n        \\n    #save percentage of cancellations and calculate difference\\n    real_per = 100*(len(test[test[\\'Cancelled\\']==1]))/float(len(test))\\n    pred_per = (yes_count*100)/(float(len(new_pred_class)))\\n    print real_per,\", \", pred_per\\n    \\n    #compute the new weight\\n    w1,diff,cond = compute_weight (real_per, pred_per, w1, cond)\\n        \\n    print \"Comprobation, diff=\",diff,\"cond=\",cond\\n    \\nprint \"Process finished\"\\nprint \"Real percentage of cancellations:\",real_per\\nprint \"Predicted percentage of cancellations:\",pred_per\\nprint \"Difference:\",diff'\u001b[0m\u001b[1;33m)\u001b[0m\u001b[1;33m\u001b[0m\u001b[0m\n\u001b[0m",
      "\u001b[1;32mC:\\Users\\unaiv\\Anaconda2\\lib\\site-packages\\IPython\\core\\interactiveshell.pyc\u001b[0m in \u001b[0;36mrun_cell_magic\u001b[1;34m(self, magic_name, line, cell)\u001b[0m\n\u001b[0;32m   2118\u001b[0m             \u001b[0mmagic_arg_s\u001b[0m \u001b[1;33m=\u001b[0m \u001b[0mself\u001b[0m\u001b[1;33m.\u001b[0m\u001b[0mvar_expand\u001b[0m\u001b[1;33m(\u001b[0m\u001b[0mline\u001b[0m\u001b[1;33m,\u001b[0m \u001b[0mstack_depth\u001b[0m\u001b[1;33m)\u001b[0m\u001b[1;33m\u001b[0m\u001b[0m\n\u001b[0;32m   2119\u001b[0m             \u001b[1;32mwith\u001b[0m \u001b[0mself\u001b[0m\u001b[1;33m.\u001b[0m\u001b[0mbuiltin_trap\u001b[0m\u001b[1;33m:\u001b[0m\u001b[1;33m\u001b[0m\u001b[0m\n\u001b[1;32m-> 2120\u001b[1;33m                 \u001b[0mresult\u001b[0m \u001b[1;33m=\u001b[0m \u001b[0mfn\u001b[0m\u001b[1;33m(\u001b[0m\u001b[0mmagic_arg_s\u001b[0m\u001b[1;33m,\u001b[0m \u001b[0mcell\u001b[0m\u001b[1;33m)\u001b[0m\u001b[1;33m\u001b[0m\u001b[0m\n\u001b[0m\u001b[0;32m   2121\u001b[0m             \u001b[1;32mreturn\u001b[0m \u001b[0mresult\u001b[0m\u001b[1;33m\u001b[0m\u001b[0m\n\u001b[0;32m   2122\u001b[0m \u001b[1;33m\u001b[0m\u001b[0m\n",
      "\u001b[1;32m<decorator-gen-61>\u001b[0m in \u001b[0;36mtime\u001b[1;34m(self, line, cell, local_ns)\u001b[0m\n",
      "\u001b[1;32mC:\\Users\\unaiv\\Anaconda2\\lib\\site-packages\\IPython\\core\\magic.pyc\u001b[0m in \u001b[0;36m<lambda>\u001b[1;34m(f, *a, **k)\u001b[0m\n\u001b[0;32m    191\u001b[0m     \u001b[1;31m# but it's overkill for just that one bit of state.\u001b[0m\u001b[1;33m\u001b[0m\u001b[1;33m\u001b[0m\u001b[0m\n\u001b[0;32m    192\u001b[0m     \u001b[1;32mdef\u001b[0m \u001b[0mmagic_deco\u001b[0m\u001b[1;33m(\u001b[0m\u001b[0marg\u001b[0m\u001b[1;33m)\u001b[0m\u001b[1;33m:\u001b[0m\u001b[1;33m\u001b[0m\u001b[0m\n\u001b[1;32m--> 193\u001b[1;33m         \u001b[0mcall\u001b[0m \u001b[1;33m=\u001b[0m \u001b[1;32mlambda\u001b[0m \u001b[0mf\u001b[0m\u001b[1;33m,\u001b[0m \u001b[1;33m*\u001b[0m\u001b[0ma\u001b[0m\u001b[1;33m,\u001b[0m \u001b[1;33m**\u001b[0m\u001b[0mk\u001b[0m\u001b[1;33m:\u001b[0m \u001b[0mf\u001b[0m\u001b[1;33m(\u001b[0m\u001b[1;33m*\u001b[0m\u001b[0ma\u001b[0m\u001b[1;33m,\u001b[0m \u001b[1;33m**\u001b[0m\u001b[0mk\u001b[0m\u001b[1;33m)\u001b[0m\u001b[1;33m\u001b[0m\u001b[0m\n\u001b[0m\u001b[0;32m    194\u001b[0m \u001b[1;33m\u001b[0m\u001b[0m\n\u001b[0;32m    195\u001b[0m         \u001b[1;32mif\u001b[0m \u001b[0mcallable\u001b[0m\u001b[1;33m(\u001b[0m\u001b[0marg\u001b[0m\u001b[1;33m)\u001b[0m\u001b[1;33m:\u001b[0m\u001b[1;33m\u001b[0m\u001b[0m\n",
      "\u001b[1;32mC:\\Users\\unaiv\\Anaconda2\\lib\\site-packages\\IPython\\core\\magics\\execution.pyc\u001b[0m in \u001b[0;36mtime\u001b[1;34m(self, line, cell, local_ns)\u001b[0m\n\u001b[0;32m   1175\u001b[0m         \u001b[1;32melse\u001b[0m\u001b[1;33m:\u001b[0m\u001b[1;33m\u001b[0m\u001b[0m\n\u001b[0;32m   1176\u001b[0m             \u001b[0mst\u001b[0m \u001b[1;33m=\u001b[0m \u001b[0mclock2\u001b[0m\u001b[1;33m(\u001b[0m\u001b[1;33m)\u001b[0m\u001b[1;33m\u001b[0m\u001b[0m\n\u001b[1;32m-> 1177\u001b[1;33m             \u001b[1;32mexec\u001b[0m\u001b[1;33m(\u001b[0m\u001b[0mcode\u001b[0m\u001b[1;33m,\u001b[0m \u001b[0mglob\u001b[0m\u001b[1;33m,\u001b[0m \u001b[0mlocal_ns\u001b[0m\u001b[1;33m)\u001b[0m\u001b[1;33m\u001b[0m\u001b[0m\n\u001b[0m\u001b[0;32m   1178\u001b[0m             \u001b[0mend\u001b[0m \u001b[1;33m=\u001b[0m \u001b[0mclock2\u001b[0m\u001b[1;33m(\u001b[0m\u001b[1;33m)\u001b[0m\u001b[1;33m\u001b[0m\u001b[0m\n\u001b[0;32m   1179\u001b[0m             \u001b[0mout\u001b[0m \u001b[1;33m=\u001b[0m \u001b[0mNone\u001b[0m\u001b[1;33m\u001b[0m\u001b[0m\n",
      "\u001b[1;32m<timed exec>\u001b[0m in \u001b[0;36m<module>\u001b[1;34m()\u001b[0m\n",
      "\u001b[1;32mC:\\Users\\unaiv\\Anaconda2\\lib\\site-packages\\pandas\\core\\generic.pyc\u001b[0m in \u001b[0;36m__getattr__\u001b[1;34m(self, name)\u001b[0m\n\u001b[0;32m   2670\u001b[0m             \u001b[1;32mif\u001b[0m \u001b[0mname\u001b[0m \u001b[1;32min\u001b[0m \u001b[0mself\u001b[0m\u001b[1;33m.\u001b[0m\u001b[0m_info_axis\u001b[0m\u001b[1;33m:\u001b[0m\u001b[1;33m\u001b[0m\u001b[0m\n\u001b[0;32m   2671\u001b[0m                 \u001b[1;32mreturn\u001b[0m \u001b[0mself\u001b[0m\u001b[1;33m[\u001b[0m\u001b[0mname\u001b[0m\u001b[1;33m]\u001b[0m\u001b[1;33m\u001b[0m\u001b[0m\n\u001b[1;32m-> 2672\u001b[1;33m             \u001b[1;32mreturn\u001b[0m \u001b[0mobject\u001b[0m\u001b[1;33m.\u001b[0m\u001b[0m__getattribute__\u001b[0m\u001b[1;33m(\u001b[0m\u001b[0mself\u001b[0m\u001b[1;33m,\u001b[0m \u001b[0mname\u001b[0m\u001b[1;33m)\u001b[0m\u001b[1;33m\u001b[0m\u001b[0m\n\u001b[0m\u001b[0;32m   2673\u001b[0m \u001b[1;33m\u001b[0m\u001b[0m\n\u001b[0;32m   2674\u001b[0m     \u001b[1;32mdef\u001b[0m \u001b[0m__setattr__\u001b[0m\u001b[1;33m(\u001b[0m\u001b[0mself\u001b[0m\u001b[1;33m,\u001b[0m \u001b[0mname\u001b[0m\u001b[1;33m,\u001b[0m \u001b[0mvalue\u001b[0m\u001b[1;33m)\u001b[0m\u001b[1;33m:\u001b[0m\u001b[1;33m\u001b[0m\u001b[0m\n",
      "\u001b[1;31mAttributeError\u001b[0m: 'DataFrame' object has no attribute 'Cancelled'"
     ]
    }
   ],
   "source": [
    "%%time\n",
    "\n",
    "#create a list with the features we wan to use\n",
    "feature_cols = ['Month','DayofMonth','CRSDepTime']\n",
    "\n",
    "#define the classifier\n",
    "classes = np.array([0,1])\n",
    "\n",
    "#define variables for the process\n",
    "w1=20\n",
    "ran = range(0, (7000000-1000))\n",
    "print len(ran)\n",
    "cond = False\n",
    "\n",
    "#function to compute the new class weight for each iteration:\n",
    "def compute_weight (real_per, pred_per, w1, cond):\n",
    "    diff = pred_per-real_per\n",
    "    \n",
    "    if diff == 0.0:\n",
    "        cond=True\n",
    "    elif 0<(diff)<3:\n",
    "        cond=True\n",
    "    elif 3<=(diff)<6:\n",
    "        w1+=2\n",
    "    elif 6<=(diff)<10:\n",
    "        w1+=4\n",
    "    elif 10<=(diff)<15:\n",
    "        w1+=6\n",
    "    elif (diff)>=15:\n",
    "        w1+=10\n",
    "    elif -3<=(diff)<0:\n",
    "        cond=True\n",
    "    elif -6<=(diff)<-3:\n",
    "        w1-=2\n",
    "    elif -10<=(diff)<-6:\n",
    "        w1-=4\n",
    "    elif -15<=(diff)<-10:\n",
    "        w1-=6\n",
    "    elif (diff)<-15:\n",
    "        w1-=10\n",
    "\n",
    "    return w1,diff, cond\n",
    "\n",
    "#start the loop with false condition\n",
    "while cond == False:\n",
    "\n",
    "    print \"New round, w1=\",w1\n",
    "    #set weight balance\n",
    "    weights = {0: 1, 1: w1}\n",
    "    #initialize the classifier\n",
    "    SGDClass = SGDClassifier(class_weight=weights, \n",
    "                         #loss='log',\n",
    "                         alpha=1.0,\n",
    "                         #l1_ratio=1,\n",
    "                         #learning_rate='optimal',\n",
    "                         shuffle=True,\n",
    "                         #eta0=0.01\n",
    "                         )\n",
    "    \n",
    "    #Loop to train the classifier\n",
    "    for i in range(0,1000000,10000):\n",
    "        r = random.choice(ran)\n",
    "        #print r\n",
    "        #query for a chunck of the dataset to partial fit\n",
    "        train = pd.read_sql_query('SELECT * '\n",
    "                                  'FROM data '\n",
    "                                  'LIMIT 10000 OFFSET %i; '%r, disk_engine)\n",
    "        \n",
    "        #obtain the X and y, with the desired training features\n",
    "        X = train.loc[:,feature_cols]\n",
    "        y = train.Cancelled\n",
    "        \n",
    "        #Train the classifier\n",
    "        SGDClass.partial_fit(X,y,classes=classes)\n",
    "    print \"Load test dataframe\"\n",
    "    #load a test dataframe\n",
    "    test = pd.read_sql_query('SELECT * '\n",
    "                        'FROM data '\n",
    "                        'LIMIT 10000 OFFSET %i; '%r, disk_engine)\n",
    "    #Obtain the desired features for the test\n",
    "    X_new = test.loc[:,feature_cols]\n",
    "    print \"Making prediction\"\n",
    "    #make prediction\n",
    "    new_pred_class = SGDClass.predict(X_new)\n",
    "    \n",
    "    #count the cancellations\n",
    "    yes_count=0\n",
    "    for pred in new_pred_class:\n",
    "        if pred==1:\n",
    "            yes_count+=1\n",
    "        \n",
    "    #save percentage of cancellations and calculate difference\n",
    "    real_per = 100*(len(test[test['Cancelled']==1]))/float(len(test))\n",
    "    pred_per = (yes_count*100)/(float(len(new_pred_class)))\n",
    "    print real_per,\", \", pred_per\n",
    "    \n",
    "    #compute the new weight\n",
    "    w1,diff,cond = compute_weight (real_per, pred_per, w1, cond)\n",
    "        \n",
    "    print \"Comprobation, diff=\",diff,\"cond=\",cond\n",
    "    \n",
    "print \"Process finished\"\n",
    "print \"Real percentage of cancellations:\",real_per\n",
    "print \"Predicted percentage of cancellations:\",pred_per\n",
    "print \"Difference:\",diff"
   ]
  },
  {
   "cell_type": "code",
   "execution_count": 17,
   "metadata": {
    "collapsed": false
   },
   "outputs": [
    {
     "name": "stdout",
     "output_type": "stream",
     "text": [
      "4586008\n"
     ]
    }
   ],
   "source": [
    "#function to compute the new class weight for each iteration:\n",
    "def compute_weight (real_per, pred_per, w1):\n",
    "    diff = pred_per-real_per\n",
    "    \n",
    "    if 0<=(res)<=3:\n",
    "        cond=True\n",
    "    elif 3<(res)<=6:\n",
    "        w1+=2\n",
    "    elif 6<(res)<=10:\n",
    "        w1+=4\n",
    "    elif 10<(res)<=15:\n",
    "        w1+=6\n",
    "    elif (res)>15:\n",
    "        w1+=10\n",
    "    elif -3<=(res)<0:\n",
    "        cond=True\n",
    "    elif -6<=(res)<-3:\n",
    "        w1-=2\n",
    "    elif -10<=(res)<-6:\n",
    "        w1-=4\n",
    "    elif -15<=(res)<-10:\n",
    "        w1-=6\n",
    "    elif (res)<-15:\n",
    "        w1-=10\n",
    "\n",
    "    return w1  "
   ]
  },
  {
   "cell_type": "code",
   "execution_count": 42,
   "metadata": {
    "collapsed": false
   },
   "outputs": [
    {
     "name": "stdout",
     "output_type": "stream",
     "text": [
      "99.79\n"
     ]
    }
   ],
   "source": [
    "def comp_accuracy (new_pred_class, test):\n",
    "count=0\n",
    "for i in range(len(new_pred_class)):\n",
    "    if new_pred_class[i]==test.Cancelled[i]:\n",
    "        count+=1\n",
    "accuracy=(float(count)/len(test.Cancelled))*100\n",
    "return accuracy"
   ]
  },
  {
   "cell_type": "markdown",
   "metadata": {
    "collapsed": true
   },
   "source": [
    "# CROSS VALIDATION IMPLEMENTATION - ACCURACY"
   ]
  },
  {
   "cell_type": "code",
   "execution_count": 25,
   "metadata": {
    "collapsed": false
   },
   "outputs": [
    {
     "name": "stdout",
     "output_type": "stream",
     "text": [
      "Train sample: 30000 lines\n",
      "New round, w1= 20\n",
      "Load test dataframe. Train sample: 10000 lines\n",
      "Making prediction\n",
      "Comprobation, accuracy= 99.38 cond= True\n",
      "Process finished\n",
      "Accuracy: 99.38 %\n"
     ]
    }
   ],
   "source": [
    "#create a list with the features we wan to use\n",
    "feature_cols = ['Month','DayofMonth','CRSDepTime']\n",
    "\n",
    "#define the classes\n",
    "classes = np.array([0,1])\n",
    "\n",
    "#define variables for the process\n",
    "w1=20\n",
    "\n",
    "#number of rows we'll use\n",
    "num_rows=30000\n",
    "print \"Train sample:\",num_rows,\"lines\"\n",
    "ran = range(0,(11260000-num_rows))#112600 in the total number of lines in the database\n",
    "cond = False\n",
    "\n",
    "#function to compute the new class weight for each iteration:\n",
    "def compute_weight_2 (acc, w1, cond):\n",
    "    \n",
    "    if acc == 100:\n",
    "        cond=True\n",
    "    elif 95<=(acc)<100:\n",
    "        cond=True\n",
    "    elif 90<=(acc)<95:\n",
    "        w1-=1\n",
    "    elif 87<=(acc)<90:\n",
    "        w1-=2\n",
    "    elif 80<=(acc)<87:\n",
    "        w1-=3\n",
    "    elif (acc)<80:\n",
    "        w1-=4\n",
    "\n",
    "    return w1,cond\n",
    "\n",
    "\n",
    "#function to compute accuracy\n",
    "def comp_accuracy (new_pred_class, test):\n",
    "    count=0\n",
    "    for i in range(len(new_pred_class)):\n",
    "        if new_pred_class[i]==test.Cancelled[i]:\n",
    "            count+=1\n",
    "    accuracy=(float(count)/len(test.Cancelled))*100\n",
    "    return accuracy\n",
    "\n",
    "#MAIN LOOP\n",
    "#start the loop with false condition\n",
    "while cond == False:\n",
    "\n",
    "    print \"New round, w1=\",w1\n",
    "    #set weight balance\n",
    "    weights = {0: 1, 1: w1}\n",
    "    #initialize the classifier\n",
    "    SGDClass = SGDClassifier(class_weight=weights, \n",
    "                         #loss='log',\n",
    "                         alpha=1.0,\n",
    "                         #l1_ratio=1,\n",
    "                         #learning_rate='optimal',\n",
    "                         shuffle=True,\n",
    "                         #eta0=0.01\n",
    "                         )\n",
    "    \n",
    "    #Loop to train the classifier\n",
    "    for i in range(0,num_rows,1000):\n",
    "        r = random.choice(ran)\n",
    "        #print r\n",
    "        #query for a chunck of the dataset to partial fit\n",
    "        train = pd.read_sql_query('SELECT * '\n",
    "                                  'FROM data '\n",
    "                                  'LIMIT 1000 OFFSET %i; '%r, disk_engine)\n",
    "        \n",
    "        #obtain the X and y, with the desired training features\n",
    "        X = train.loc[:,feature_cols]\n",
    "        y = train.Cancelled\n",
    "        \n",
    "        #Train the classifier\n",
    "        SGDClass.partial_fit(X,y,classes=classes)\n",
    "    print \"Load test dataframe. Train sample: 10000 lines\"\n",
    "    #load a test dataframe\n",
    "    test = pd.read_sql_query('SELECT * '\n",
    "                        'FROM data '\n",
    "                        'LIMIT 10000 OFFSET %i; '%r, disk_engine)\n",
    "    #Obtain the desired features for the test\n",
    "    X_new = test.loc[:,feature_cols]\n",
    "    print \"Making prediction\"\n",
    "    #make prediction\n",
    "    new_pred_class = SGDClass.predict(X_new)\n",
    "    \n",
    "    #calculate accuracy\n",
    "    accuracy= comp_accuracy (new_pred_class, test)\n",
    "    \n",
    "    #compute the new weight\n",
    "    w1, cond = compute_weight_2 (accuracy, w1, cond)\n",
    "        \n",
    "    print \"Comprobation, accuracy=\",accuracy,\"cond=\",cond\n",
    "    \n",
    "print \"Process finished\"\n",
    "print \"Accuracy:\",accuracy,\"%\""
   ]
  },
  {
   "cell_type": "code",
   "execution_count": 26,
   "metadata": {
    "collapsed": false
   },
   "outputs": [
    {
     "name": "stdout",
     "output_type": "stream",
     "text": [
      "Train sample: 300000 lines\n",
      "New round, w1= 20\n",
      "Load test dataframe. Train sample: 50000 lines\n",
      "Making prediction\n",
      "Comprobation, accuracy= 2.93 cond= False\n",
      "New round, w1= 16\n",
      "Load test dataframe. Train sample: 50000 lines\n",
      "Making prediction\n",
      "Comprobation, accuracy= 99.394 cond= True\n",
      "Process finished\n",
      "Accuracy: 99.394 %\n"
     ]
    }
   ],
   "source": [
    "#create a list with the features we wan to use\n",
    "feature_cols = ['Month','DayofMonth','CRSDepTime']\n",
    "\n",
    "#define the classes\n",
    "classes = np.array([0,1])\n",
    "\n",
    "#define variables for the process\n",
    "w1=20\n",
    "\n",
    "#number of rows we'll use\n",
    "num_rows=300000\n",
    "print \"Train sample:\",num_rows,\"lines\"\n",
    "ran = range(0,(11260000-num_rows))#112600 in the total number of lines in the database\n",
    "cond = False\n",
    "\n",
    "#function to compute the new class weight for each iteration:\n",
    "def compute_weight_2 (acc, w1, cond):\n",
    "    \n",
    "    if acc == 100:\n",
    "        cond=True\n",
    "    elif 95<=(acc)<100:\n",
    "        cond=True\n",
    "    elif 90<=(acc)<95:\n",
    "        w1-=1\n",
    "    elif 87<=(acc)<90:\n",
    "        w1-=2\n",
    "    elif 80<=(acc)<87:\n",
    "        w1-=3\n",
    "    elif (acc)<80:\n",
    "        w1-=4\n",
    "\n",
    "    return w1,cond\n",
    "\n",
    "\n",
    "#function to compute accuracy\n",
    "def comp_accuracy (new_pred_class, test):\n",
    "    count=0\n",
    "    for i in range(len(new_pred_class)):\n",
    "        if new_pred_class[i]==test.Cancelled[i]:\n",
    "            count+=1\n",
    "    accuracy=(float(count)/len(test.Cancelled))*100\n",
    "    return accuracy\n",
    "\n",
    "#MAIN LOOP\n",
    "#start the loop with false condition\n",
    "while cond == False:\n",
    "\n",
    "    print \"New round, w1=\",w1\n",
    "    #set weight balance\n",
    "    weights = {0: 1, 1: w1}\n",
    "    #initialize the classifier\n",
    "    SGDClass = SGDClassifier(class_weight=weights, \n",
    "                         #loss='log',\n",
    "                         alpha=1.0,\n",
    "                         #l1_ratio=1,\n",
    "                         #learning_rate='optimal',\n",
    "                         shuffle=True,\n",
    "                         #eta0=0.01\n",
    "                         )\n",
    "    \n",
    "    #Loop to train the classifier\n",
    "    for i in range(0,num_rows,1000):\n",
    "        r = random.choice(ran)\n",
    "        #print r\n",
    "        #query for a chunck of the dataset to partial fit\n",
    "        train = pd.read_sql_query('SELECT * '\n",
    "                                  'FROM data '\n",
    "                                  'LIMIT 1000 OFFSET %i; '%r, disk_engine)\n",
    "        \n",
    "        #obtain the X and y, with the desired training features\n",
    "        X = train.loc[:,feature_cols]\n",
    "        y = train.Cancelled\n",
    "        \n",
    "        #Train the classifier\n",
    "        SGDClass.partial_fit(X,y,classes=classes)\n",
    "    print \"Load test dataframe. Test sample: 50000 lines\"\n",
    "    #load a test dataframe\n",
    "    test = pd.read_sql_query('SELECT * '\n",
    "                        'FROM data '\n",
    "                        'LIMIT 50000 OFFSET %i; '%r, disk_engine)\n",
    "    #Obtain the desired features for the test\n",
    "    X_new = test.loc[:,feature_cols]\n",
    "    print \"Making prediction\"\n",
    "    #make prediction\n",
    "    new_pred_class = SGDClass.predict(X_new)\n",
    "    \n",
    "    #calculate accuracy\n",
    "    accuracy= comp_accuracy (new_pred_class, test)\n",
    "    \n",
    "    #compute the new weight\n",
    "    w1, cond = compute_weight_2 (accuracy, w1, cond)\n",
    "        \n",
    "    print \"Comprobation, accuracy=\",accuracy,\"cond=\",cond\n",
    "    \n",
    "print \"Process finished\"\n",
    "print \"Accuracy:\",accuracy,\"%\""
   ]
  },
  {
   "cell_type": "code",
   "execution_count": 27,
   "metadata": {
    "collapsed": false
   },
   "outputs": [
    {
     "name": "stdout",
     "output_type": "stream",
     "text": [
      "Train sample: 3000000 lines\n",
      "New round, w1= 20\n",
      "Load test dataframe. Train sample: 100000 lines\n",
      "Making prediction\n",
      "Comprobation, accuracy= 99.272 cond= True\n",
      "Process finished\n",
      "Accuracy: 99.272 %\n"
     ]
    }
   ],
   "source": [
    "#create a list with the features we wan to use\n",
    "feature_cols = ['Month','DayofMonth','CRSDepTime']\n",
    "\n",
    "#define the classes\n",
    "classes = np.array([0,1])\n",
    "\n",
    "#define variables for the process\n",
    "w1=20\n",
    "\n",
    "#number of rows we'll use\n",
    "num_rows=3000000\n",
    "print \"Train sample:\",num_rows,\"lines\"\n",
    "ran = range(0,(11260000-num_rows))#112600 in the total number of lines in the database\n",
    "cond = False\n",
    "\n",
    "#function to compute the new class weight for each iteration:\n",
    "def compute_weight_2 (acc, w1, cond):\n",
    "    \n",
    "    if acc == 100:\n",
    "        cond=True\n",
    "    elif 95<=(acc)<100:\n",
    "        cond=True\n",
    "    elif 90<=(acc)<95:\n",
    "        w1-=1\n",
    "    elif 87<=(acc)<90:\n",
    "        w1-=2\n",
    "    elif 80<=(acc)<87:\n",
    "        w1-=3\n",
    "    elif (acc)<80:\n",
    "        w1-=4\n",
    "\n",
    "    return w1,cond\n",
    "\n",
    "\n",
    "#function to compute accuracy\n",
    "def comp_accuracy (new_pred_class, test):\n",
    "    count=0\n",
    "    for i in range(len(new_pred_class)):\n",
    "        if new_pred_class[i]==test.Cancelled[i]:\n",
    "            count+=1\n",
    "    accuracy=(float(count)/len(test.Cancelled))*100\n",
    "    return accuracy\n",
    "\n",
    "#MAIN LOOP\n",
    "#start the loop with false condition\n",
    "while cond == False:\n",
    "\n",
    "    print \"New round, w1=\",w1\n",
    "    #set weight balance\n",
    "    weights = {0: 1, 1: w1}\n",
    "    #initialize the classifier\n",
    "    SGDClass = SGDClassifier(class_weight=weights, \n",
    "                         #loss='log',\n",
    "                         alpha=1.0,\n",
    "                         #l1_ratio=1,\n",
    "                         #learning_rate='optimal',\n",
    "                         shuffle=True,\n",
    "                         #eta0=0.01\n",
    "                         )\n",
    "    \n",
    "    #Loop to train the classifier\n",
    "    for i in range(0,num_rows,10000):\n",
    "        r = random.choice(ran)\n",
    "        #print r\n",
    "        #query for a chunck of the dataset to partial fit\n",
    "        train = pd.read_sql_query('SELECT * '\n",
    "                                  'FROM data '\n",
    "                                  'LIMIT 10000 OFFSET %i; '%r, disk_engine)\n",
    "        \n",
    "        #obtain the X and y, with the desired training features\n",
    "        X = train.loc[:,feature_cols]\n",
    "        y = train.Cancelled\n",
    "        \n",
    "        #Train the classifier\n",
    "        SGDClass.partial_fit(X,y,classes=classes)\n",
    "    print \"Load test dataframe. Train sample: 100000 lines\"\n",
    "    #load a test dataframe\n",
    "    test = pd.read_sql_query('SELECT * '\n",
    "                        'FROM data '\n",
    "                        'LIMIT 100000 OFFSET %i; '%r, disk_engine)\n",
    "    #Obtain the desired features for the test\n",
    "    X_new = test.loc[:,feature_cols]\n",
    "    print \"Making prediction\"\n",
    "    #make prediction\n",
    "    new_pred_class = SGDClass.predict(X_new)\n",
    "    \n",
    "    #calculate accuracy\n",
    "    accuracy= comp_accuracy (new_pred_class, test)\n",
    "    \n",
    "    #compute the new weight\n",
    "    w1, cond = compute_weight_2 (accuracy, w1, cond)\n",
    "        \n",
    "    print \"Comprobation, accuracy=\",accuracy,\"cond=\",cond\n",
    "    \n",
    "print \"Process finished\"\n",
    "print \"Accuracy:\",accuracy,\"%\""
   ]
  },
  {
   "cell_type": "code",
   "execution_count": 31,
   "metadata": {
    "collapsed": false
   },
   "outputs": [
    {
     "name": "stdout",
     "output_type": "stream",
     "text": [
      "Train sample: 10000000 lines\n",
      "New round, w1= 10\n",
      "Load test dataframe. Train sample: 1000000 lines\n",
      "Making prediction\n",
      "Comprobation, accuracy= 97.1657 cond= True\n",
      "Process finished\n",
      "Accuracy: 97.1657 %\n"
     ]
    }
   ],
   "source": [
    "#create a list with the features we wan to use\n",
    "feature_cols = ['Month','DayofMonth','CRSDepTime']\n",
    "\n",
    "#define the classes\n",
    "classes = np.array([0,1])\n",
    "\n",
    "#define variables for the process\n",
    "w1=10\n",
    "\n",
    "#number of rows we'll use\n",
    "num_rows=10000000\n",
    "print \"Train sample:\",num_rows,\"lines\"\n",
    "ran = range(0,(11260000-num_rows))#112600 in the total number of lines in the database\n",
    "cond = False\n",
    "\n",
    "#function to compute the new class weight for each iteration:\n",
    "def compute_weight_2 (acc, w1, cond):\n",
    "    \n",
    "    if acc == 100:\n",
    "        cond=True\n",
    "    elif 95<=(acc)<100:\n",
    "        cond=True\n",
    "    elif 90<=(acc)<95:\n",
    "        w1-=1\n",
    "    elif 87<=(acc)<90:\n",
    "        w1-=2\n",
    "    elif 80<=(acc)<87:\n",
    "        w1-=3\n",
    "    elif (acc)<80:\n",
    "        w1-=4\n",
    "\n",
    "    return w1,cond\n",
    "\n",
    "\n",
    "#function to compute accuracy\n",
    "def comp_accuracy (new_pred_class, test):\n",
    "    count=0\n",
    "    for i in range(len(new_pred_class)):\n",
    "        if new_pred_class[i]==test.Cancelled[i]:\n",
    "            count+=1\n",
    "    accuracy=(float(count)/len(test.Cancelled))*100\n",
    "    return accuracy\n",
    "\n",
    "#MAIN LOOP\n",
    "#start the loop with false condition\n",
    "while cond == False:\n",
    "\n",
    "    print \"New round, w1=\",w1\n",
    "    #set weight balance\n",
    "    weights = {0: 1, 1: w1}\n",
    "    #initialize the classifier\n",
    "    SGDClass = SGDClassifier(class_weight=weights, \n",
    "                         #loss='log',\n",
    "                         alpha=1.0,\n",
    "                         #l1_ratio=1,\n",
    "                         #learning_rate='optimal',\n",
    "                         shuffle=True,\n",
    "                         #eta0=0.01\n",
    "                         )\n",
    "    \n",
    "    #Loop to train the classifier\n",
    "    for i in range(0,num_rows,10000):\n",
    "        r = random.choice(ran)\n",
    "        #print r\n",
    "        #query for a chunck of the dataset to partial fit\n",
    "        train = pd.read_sql_query('SELECT * '\n",
    "                                  'FROM data '\n",
    "                                  'LIMIT 10000 OFFSET %i; '%r, disk_engine)\n",
    "        \n",
    "        #obtain the X and y, with the desired training features\n",
    "        X = train.loc[:,feature_cols]\n",
    "        y = train.Cancelled\n",
    "        \n",
    "        #Train the classifier\n",
    "        SGDClass.partial_fit(X,y,classes=classes)\n",
    "    print \"Load test dataframe. Train sample: 1000000 lines\"\n",
    "    #load a test dataframe\n",
    "    test = pd.read_sql_query('SELECT * '\n",
    "                        'FROM data '\n",
    "                        'LIMIT 1000000 OFFSET %i; '%r, disk_engine)\n",
    "    #Obtain the desired features for the test\n",
    "    X_new = test.loc[:,feature_cols]\n",
    "    print \"Making prediction\"\n",
    "    #make prediction\n",
    "    new_pred_class = SGDClass.predict(X_new)\n",
    "    \n",
    "    #calculate accuracy\n",
    "    accuracy= comp_accuracy (new_pred_class, test)\n",
    "    \n",
    "    #compute the new weight\n",
    "    w1, cond = compute_weight_2 (accuracy, w1, cond)\n",
    "        \n",
    "    print \"Comprobation, accuracy=\",accuracy,\"cond=\",cond\n",
    "    \n",
    "print \"Process finished\"\n",
    "print \"Accuracy:\",accuracy,\"%\""
   ]
  },
  {
   "cell_type": "code",
   "execution_count": null,
   "metadata": {
    "collapsed": true
   },
   "outputs": [],
   "source": []
  }
 ],
 "metadata": {
  "anaconda-cloud": {},
  "kernelspec": {
   "display_name": "Python [Root]",
   "language": "python",
   "name": "Python [Root]"
  },
  "language_info": {
   "codemirror_mode": {
    "name": "ipython",
    "version": 2
   },
   "file_extension": ".py",
   "mimetype": "text/x-python",
   "name": "python",
   "nbconvert_exporter": "python",
   "pygments_lexer": "ipython2",
   "version": "2.7.12"
  }
 },
 "nbformat": 4,
 "nbformat_minor": 0
}
