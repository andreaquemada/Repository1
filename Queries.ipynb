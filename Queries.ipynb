{
 "cells": [
  {
   "cell_type": "code",
   "execution_count": 1,
   "metadata": {
    "collapsed": true
   },
   "outputs": [],
   "source": [
    "%matplotlib inline\n",
    "import csv\n",
    "import pandas as pd\n",
    "import matplotlib.pyplot as plt\n",
    "from sqlalchemy import create_engine # database connection\n",
    "import datetime as dt\n",
    "from IPython.display import display\n",
    "\n",
    "import plotly.plotly as py # interactive graphing\n",
    "from plotly.graph_objs import Bar, Scatter, Marker, Layout\n",
    "import plotly.tools as tls\n",
    "from colour import Color\n",
    "import plotly.graph_objs as go"
   ]
  },
  {
   "cell_type": "code",
   "execution_count": null,
   "metadata": {
    "collapsed": true
   },
   "outputs": [],
   "source": [
    "disk_engine = create_engine('sqlite:///tuti.db') # Initializes database with filename tuti.db in current directory#Initialize the list of files of flights from each year\n"
   ]
  },
  {
   "cell_type": "code",
   "execution_count": null,
   "metadata": {
    "collapsed": true
   },
   "outputs": [],
   "source": [
    "allFiles=[\"1987.csv\",\"1988.csv\",\"1989.csv\",\"1990.csv\",\"1991.csv\",\"1992.csv\",\"1993.csv\",\"1994.csv\",\"1995.csv\",\"1996.csv\",\"1997.csv\",\"1998.csv\",\"1999.csv\",\"2000.csv\",\"2001.csv\",\"2002.csv\",\"2003.csv\",\"2004.csv\",\"2005.csv\",\"2006.csv\",\"2007.csv\",\"2008.csv\"]\n",
    "frame_list=[]"
   ]
  },
  {
   "cell_type": "code",
   "execution_count": 2,
   "metadata": {
    "collapsed": false
   },
   "outputs": [
    {
     "name": "stdout",
     "output_type": "stream",
     "text": [
      "Wall time: 0 ns\n"
     ]
    }
   ],
   "source": [
    "%%time\n",
    "# Each time we want to work with the database we don't need to charge all the files again, instead we connect to it.\n",
    "import sqlite3\n",
    "disk_engine=sqlite3.connect('tuti.db')"
   ]
  },
  {
   "cell_type": "code",
   "execution_count": 3,
   "metadata": {
    "collapsed": false
   },
   "outputs": [
    {
     "data": {
      "text/html": [
       "<div>\n",
       "<table border=\"1\" class=\"dataframe\">\n",
       "  <thead>\n",
       "    <tr style=\"text-align: right;\">\n",
       "      <th></th>\n",
       "      <th>index</th>\n",
       "      <th>Year</th>\n",
       "      <th>Month</th>\n",
       "      <th>DayofMonth</th>\n",
       "      <th>CRSDepTime</th>\n",
       "      <th>UniqueCarrier</th>\n",
       "      <th>Origin</th>\n",
       "      <th>Dest</th>\n",
       "    </tr>\n",
       "  </thead>\n",
       "  <tbody>\n",
       "    <tr>\n",
       "      <th>0</th>\n",
       "      <td>1</td>\n",
       "      <td>1987</td>\n",
       "      <td>10</td>\n",
       "      <td>14</td>\n",
       "      <td>730</td>\n",
       "      <td>PS</td>\n",
       "      <td>SAN</td>\n",
       "      <td>SFO</td>\n",
       "    </tr>\n",
       "    <tr>\n",
       "      <th>1</th>\n",
       "      <td>2</td>\n",
       "      <td>1987</td>\n",
       "      <td>10</td>\n",
       "      <td>15</td>\n",
       "      <td>730</td>\n",
       "      <td>PS</td>\n",
       "      <td>SAN</td>\n",
       "      <td>SFO</td>\n",
       "    </tr>\n",
       "    <tr>\n",
       "      <th>2</th>\n",
       "      <td>3</td>\n",
       "      <td>1987</td>\n",
       "      <td>10</td>\n",
       "      <td>17</td>\n",
       "      <td>730</td>\n",
       "      <td>PS</td>\n",
       "      <td>SAN</td>\n",
       "      <td>SFO</td>\n",
       "    </tr>\n",
       "  </tbody>\n",
       "</table>\n",
       "</div>"
      ],
      "text/plain": [
       "   index  Year  Month  DayofMonth  CRSDepTime UniqueCarrier Origin Dest\n",
       "0      1  1987     10          14         730            PS    SAN  SFO\n",
       "1      2  1987     10          15         730            PS    SAN  SFO\n",
       "2      3  1987     10          17         730            PS    SAN  SFO"
      ]
     },
     "execution_count": 3,
     "metadata": {},
     "output_type": "execute_result"
    }
   ],
   "source": [
    "# We select the first 3 rows of the database\n",
    "df = pd.read_sql_query('SELECT * FROM data LIMIT 3', disk_engine)\n",
    "df.head()"
   ]
  },
  {
   "cell_type": "code",
   "execution_count": 4,
   "metadata": {
    "collapsed": true
   },
   "outputs": [],
   "source": [
    "# We set our credentials for being able to plot interactive graphics\n",
    "tls.set_credentials_file(username='andreaque', api_key='ri2bu5e4cp')"
   ]
  },
  {
   "cell_type": "code",
   "execution_count": 87,
   "metadata": {
    "collapsed": false
   },
   "outputs": [
    {
     "name": "stdout",
     "output_type": "stream",
     "text": [
      "Wall time: 4min 56s\n"
     ]
    }
   ],
   "source": [
    "%%time\n",
    "#1 - Number of cancellations per Company since 1987 until 2008\n",
    "df = pd.read_sql_query('SELECT UniqueCarrier, SUM(Cancelled) AS cancellations '\n",
    "                       'FROM data '\n",
    "                       'GROUP BY UniqueCarrier '\n",
    "                       'ORDER BY -cancellations ', disk_engine)"
   ]
  },
  {
   "cell_type": "code",
   "execution_count": 88,
   "metadata": {
    "collapsed": false,
    "scrolled": false
   },
   "outputs": [
    {
     "data": {
      "text/html": [
       "<iframe id=\"igraph\" scrolling=\"no\" style=\"border:none;\" seamless=\"seamless\" src=\"https://plot.ly/~andreaque/12.embed\" height=\"525px\" width=\"100%\"></iframe>"
      ],
      "text/plain": [
       "<plotly.tools.PlotlyDisplay object>"
      ]
     },
     "execution_count": 88,
     "metadata": {},
     "output_type": "execute_result"
    }
   ],
   "source": [
    "#1 - Number of cancellations per Company since 1987 until 2008\n",
    "py.iplot({'data':[Bar(x=df.UniqueCarrier, y=df.cancellations)],\n",
    "          'layout':Layout(barmode='stack', xaxis= {'tickangle': 40}, title='Number of cancellations per Company (1987-2008)')} ,\n",
    "         filename='Number of cancellations per Company')"
   ]
  },
  {
   "cell_type": "code",
   "execution_count": null,
   "metadata": {
    "collapsed": true
   },
   "outputs": [],
   "source": [
    "%%time\n",
    "#10 - Number of cancellations per Company in 11 September of 2001\n",
    "df = pd.read_sql_query('SELECT UniqueCarrier, SUM(Cancelled) AS cancellations '\n",
    "                       'FROM data '\n",
    "                       'WHERE Year = \"2001\" AND Month=\"9\" AND DayofMonth=\"11\" '\n",
    "                       'GROUP BY UniqueCarrier '\n",
    "                       'ORDER BY -cancellations ', disk_engine)"
   ]
  },
  {
   "cell_type": "code",
   "execution_count": null,
   "metadata": {
    "collapsed": true
   },
   "outputs": [],
   "source": [
    "#10 - Number of cancellations per Company in 11 September of 2001\n",
    "py.iplot({'data':[Bar(x=df.UniqueCarrier, y=df.cancellations)],\n",
    "          'layout':Layout(barmode='stack', xaxis= {'tickangle': 40}, title='Number of cancellations per Company on the 11-S')} ,\n",
    "         filename='Number of cancellations per Company on the 11-S')"
   ]
  },
  {
   "cell_type": "code",
   "execution_count": 25,
   "metadata": {
    "collapsed": false
   },
   "outputs": [
    {
     "name": "stdout",
     "output_type": "stream",
     "text": [
      "Wall time: 1min 14s\n"
     ]
    }
   ],
   "source": [
    "%%time\n",
    "#2 - Number of cancellations per Company in Septembre of 2001\n",
    "df = pd.read_sql_query('SELECT UniqueCarrier, SUM(Cancelled) AS cancellations '\n",
    "                       'FROM data '\n",
    "                       'WHERE Year = \"2001\" AND Month=\"9\" '\n",
    "                       'GROUP BY UniqueCarrier '\n",
    "                       'ORDER BY -cancellations ', disk_engine)"
   ]
  },
  {
   "cell_type": "code",
   "execution_count": 9,
   "metadata": {
    "collapsed": false,
    "scrolled": true
   },
   "outputs": [
    {
     "data": {
      "text/html": [
       "<iframe id=\"igraph\" scrolling=\"no\" style=\"border:none;\" seamless=\"seamless\" src=\"https://plot.ly/~andreaque/14.embed\" height=\"525px\" width=\"100%\"></iframe>"
      ],
      "text/plain": [
       "<plotly.tools.PlotlyDisplay object>"
      ]
     },
     "execution_count": 9,
     "metadata": {},
     "output_type": "execute_result"
    }
   ],
   "source": [
    "#2 - Number of cancellations per Company in Septembre of 2001\n",
    "\n",
    "UnitedAirlines = go.Bar(\n",
    "    x=df.UniqueCarrier[0],\n",
    "    y=df.cancellations[0],\n",
    "    name='UnitedAirlines',\n",
    "    marker=dict(\n",
    "        color='rgba(142, 68, 173,1)',\n",
    "    )\n",
    ")\n",
    "USAirways = go.Bar(\n",
    "    x=df.UniqueCarrier[1],\n",
    "    y=df.cancellations[1],\n",
    "    marker=dict(\n",
    "        color='rgba(125, 206, 160,1)',\n",
    "    )\n",
    ")\n",
    "AmericanAirlines = go.Bar(\n",
    "    x=df.UniqueCarrier[2],\n",
    "    y=df.cancellations[2],\n",
    "    marker=dict(\n",
    "        color='rgba(230, 126, 34,1)',\n",
    "    )\n",
    ")\n",
    "DeltaAirlines = go.Bar(\n",
    "    x=df.UniqueCarrier[3],\n",
    "    y=df.cancellations[3],\n",
    "    marker=dict(\n",
    "        color='rgba(241, 196, 15,1)',\n",
    "    )\n",
    ")\n",
    "AmericanEagleAirlines = go.Bar(\n",
    "    x=df.UniqueCarrier[4],\n",
    "    y=df.cancellations[4],\n",
    "    marker=dict(\n",
    "        color='rgba(93, 173, 226,1)',\n",
    "    )\n",
    ")\n",
    "SouthWestAirlines = go.Bar(\n",
    "    x=df.UniqueCarrier[5],\n",
    "    y=df.cancellations[5],\n",
    "    marker=dict(\n",
    "        color='rgba(123, 36, 28,1)',\n",
    "    )\n",
    ")\n",
    "NorthWestAirlines = go.Bar(\n",
    "    x=df.UniqueCarrier[6],\n",
    "    y=df.cancellations[6],\n",
    "    marker=dict(\n",
    "        color='rgba(72, 201, 176,1)',\n",
    "    )\n",
    ")\n",
    "ContinentalAirlines = go.Bar(\n",
    "    x=df.UniqueCarrier[7],\n",
    "    y=df.cancellations[7],\n",
    "    marker=dict(\n",
    "        color='rgba(40, 55, 71,1)',\n",
    "    )\n",
    ")\n",
    "AlaskaAirlines = go.Bar(\n",
    "    x=df.UniqueCarrier[8],\n",
    "    y=df.cancellations[8],\n",
    "    marker=dict(\n",
    "        color='rgba(84, 153, 199,1)',\n",
    "    )\n",
    ")\n",
    "AmericaWestAirlines = go.Bar(\n",
    "    x=df.UniqueCarrier[9],\n",
    "    y=df.cancellations[9],\n",
    "    marker=dict(\n",
    "        color='rgba(203, 67, 53,1)',\n",
    "    )\n",
    ")\n",
    "TransWorldAirways = go.Bar(\n",
    "    x=df.UniqueCarrier[10],\n",
    "    y=df.cancellations[10],\n",
    "    marker=dict(\n",
    "        color='rgba(247, 220, 111,1)',\n",
    "    )\n",
    ")\n",
    "AlohaAirlines = go.Bar(\n",
    "    x=df.UniqueCarrier[11],\n",
    "    y=df.cancellations[11],\n",
    "    marker=dict(\n",
    "        color='rgba(243, 156, 18,1)',\n",
    "    )\n",
    ")\n",
    "\n",
    "\n",
    "   \n",
    "\n",
    "traces=[UnitedAirlines,USAirways,AmericanAirlines,DeltaAirlines,AmericanEagleAirlines,SouthWestAirlines,NorthWestAirlines,\n",
    "        ContinentalAirlines,AlaskaAirlines,AmericaWestAirlines,TransWorldAirways,AlohaAirlines]\n",
    "\n",
    "layout = go.Layout(\n",
    "    title='Cancellations per Company in Sept 2001',\n",
    "    barmode='stack',\n",
    "    paper_bgcolor='rgba(245, 246, 249, 1)',\n",
    "    plot_bgcolor='rgba(245, 246, 249, 1)',\n",
    "    showlegend=False\n",
    ")\n",
    "\n",
    "\n",
    "fig = go.Figure(data=traces, layout=layout)\n",
    "py.iplot(fig, filename='Cancellations per Company')"
   ]
  },
  {
   "cell_type": "code",
   "execution_count": 6,
   "metadata": {
    "collapsed": false
   },
   "outputs": [
    {
     "name": "stdout",
     "output_type": "stream",
     "text": [
      "Wall time: 5min 36s\n"
     ]
    }
   ],
   "source": [
    "%%time\n",
    "# 3- Number of flights and cancellations for departures in each State in EEUU\n",
    "df = pd.read_sql_query('SELECT Origin, COUNT(*) as `num_flights`, SUM(Cancelled) AS cancellations '\n",
    "                       'FROM data '\n",
    "                       'GROUP BY Origin '\n",
    "                       'ORDER BY -num_flights ', disk_engine)"
   ]
  },
  {
   "cell_type": "code",
   "execution_count": 7,
   "metadata": {
    "collapsed": false
   },
   "outputs": [
    {
     "data": {
      "text/html": [
       "<iframe id=\"igraph\" scrolling=\"no\" style=\"border:none;\" seamless=\"seamless\" src=\"https://plot.ly/~andreaque/16.embed\" height=\"525px\" width=\"100%\"></iframe>"
      ],
      "text/plain": [
       "<plotly.tools.PlotlyDisplay object>"
      ]
     },
     "execution_count": 7,
     "metadata": {},
     "output_type": "execute_result"
    }
   ],
   "source": [
    "# 3- Number of flights and cancellations for departures in each State in EEUU\n",
    "sta = pd.read_csv('states.csv')\n",
    "air = pd.read_csv('airports.csv')\n",
    "\n",
    "for col in sta.columns:\n",
    "    sta[col] = sta[col].astype(str)\n",
    "for colu in air.columns:\n",
    "    air[colu] = air[colu].astype(str)\n",
    "for colum in df.columns:\n",
    "    df[colum] = df[colum].astype(str)\n",
    "\n",
    "scl = [[0.0, 'rgb(242,240,247)'],[0.2, 'rgb(218,218,235)'],[0.4, 'rgb(188,189,220)'],\\\n",
    "            [0.6, 'rgb(158,154,200)'],[0.8, 'rgb(117,107,177)'],[1.0, 'rgb(84,39,143)']]\n",
    "\n",
    "df['text'] = sta['state'] + '<br>' +\\\n",
    "    ' Cancellations '+df['cancellations']\n",
    "\n",
    "data = [ dict(\n",
    "        type='choropleth',\n",
    "        colorscale = scl,\n",
    "        autocolorscale = False,\n",
    "        locations = sta['code'],\n",
    "        z = df['num_flights'].astype(int),\n",
    "        locationmode = 'USA-states',\n",
    "        text = df['text'],\n",
    "        marker = dict(\n",
    "            line = dict (\n",
    "                color = 'rgb(255,255,255)',\n",
    "                width = 2\n",
    "            ) ),\n",
    "        colorbar = dict(\n",
    "            title = \"Number of flights\")\n",
    "        ) ]\n",
    "\n",
    "layout = dict(\n",
    "        title = 'Number of flights taking off from each state',\n",
    "        geo = dict(\n",
    "            scope='usa',\n",
    "            projection=dict( type='albers usa' ),\n",
    "            showlakes = True,\n",
    "            lakecolor = 'rgb(255, 255, 255)'),\n",
    "             )\n",
    "    \n",
    "fig = dict( data=data, layout=layout )\n",
    "py.iplot( fig, filename='d3-cloropleth-map' )\n"
   ]
  },
  {
   "cell_type": "code",
   "execution_count": 3,
   "metadata": {
    "collapsed": false
   },
   "outputs": [
    {
     "name": "stdout",
     "output_type": "stream",
     "text": [
      "Wall time: 6min 22s\n"
     ]
    }
   ],
   "source": [
    "%%time\n",
    "# 4- Number of flights and cancellations for landings in each State in EEUU\n",
    "df = pd.read_sql_query('SELECT Dest, COUNT(*) as `num_flights`, SUM(Cancelled) AS cancellations '\n",
    "                       'FROM data '\n",
    "                       'GROUP BY Dest '\n",
    "                       'ORDER BY -num_flights ', disk_engine)"
   ]
  },
  {
   "cell_type": "code",
   "execution_count": 28,
   "metadata": {
    "collapsed": false
   },
   "outputs": [
    {
     "data": {
      "text/html": [
       "<iframe id=\"igraph\" scrolling=\"no\" style=\"border:none;\" seamless=\"seamless\" src=\"https://plot.ly/~andreaque/16.embed\" height=\"525px\" width=\"100%\"></iframe>"
      ],
      "text/plain": [
       "<plotly.tools.PlotlyDisplay object>"
      ]
     },
     "execution_count": 28,
     "metadata": {},
     "output_type": "execute_result"
    }
   ],
   "source": [
    "# 4- Number of flights and cancellations for landings in each State in EEUU\n",
    "\n",
    "air = pd.read_csv('airports.csv')\n",
    "sta = pd.read_csv('states.csv')\n",
    "\n",
    "for col in air.columns:\n",
    "    air[col] = air[col].astype(str)\n",
    "for colu in sta.columns:\n",
    "    sta[colu] = sta[colu].astype(str)\n",
    "for colum in df.columns:\n",
    "    df[colum] = df[colum].astype(str)\n",
    "\n",
    "scl = [[0.0, 'rgb(242,240,247)'],[0.2, 'rgb(218,218,235)'],[0.4, 'rgb(188,189,220)'],\\\n",
    "            [0.6, 'rgb(158,154,200)'],[0.8, 'rgb(117,107,177)'],[1.0, 'rgb(84,39,143)']]\n",
    "\n",
    "df['text'] = sta['state'] + '<br>' +\\\n",
    "    ' Cancellations '+df['cancellations']\n",
    "\n",
    "data = [ dict(\n",
    "        type='choropleth',\n",
    "        colorscale = scl,\n",
    "        autocolorscale = False,\n",
    "        locations = sta['code'],\n",
    "        z = df['num_flights'].astype(int),\n",
    "        locationmode = 'USA-states',\n",
    "        text = df['text'],\n",
    "        marker = dict(\n",
    "            line = dict (\n",
    "                color = 'rgb(255,255,255)',\n",
    "                width = 2\n",
    "            ) ),\n",
    "        colorbar = dict(\n",
    "            title = \"Number of flights\")\n",
    "        ) ]\n",
    "\n",
    "layout = dict(\n",
    "        title = 'Number of flights landing in each state',\n",
    "        geo = dict(\n",
    "            scope='usa',\n",
    "            projection=dict( type='albers usa' ),\n",
    "            showlakes = True,\n",
    "            lakecolor = 'rgb(255, 255, 255)'),\n",
    "             )\n",
    "    \n",
    "fig = dict( data=data, layout=layout )\n",
    "py.iplot( fig, filename='d3-cloropleth-map' )\n"
   ]
  },
  {
   "cell_type": "code",
   "execution_count": 82,
   "metadata": {
    "collapsed": false
   },
   "outputs": [
    {
     "name": "stdout",
     "output_type": "stream",
     "text": [
      "Wall time: 4min 59s\n"
     ]
    }
   ],
   "source": [
    "%%time\n",
    "# 8 and 9 - Amount of flights that departure at a concrete time\n",
    "df = pd.read_sql_query('SELECT CRSDepTime, COUNT(*) as `num_flights`, SUM(Cancelled) AS cancellations '\n",
    "                       'FROM data '\n",
    "                       'GROUP BY CRSDepTime '\n",
    "                       'ORDER BY CRSDepTime ', disk_engine)"
   ]
  },
  {
   "cell_type": "code",
   "execution_count": 83,
   "metadata": {
    "collapsed": false,
    "scrolled": true
   },
   "outputs": [
    {
     "data": {
      "text/html": [
       "<iframe id=\"igraph\" scrolling=\"no\" style=\"border:none;\" seamless=\"seamless\" src=\"https://plot.ly/~andreaque/18.embed\" height=\"525px\" width=\"100%\"></iframe>"
      ],
      "text/plain": [
       "<plotly.tools.PlotlyDisplay object>"
      ]
     },
     "execution_count": 83,
     "metadata": {},
     "output_type": "execute_result"
    }
   ],
   "source": [
    "# 8 - Amount of flights that departure at a concrete time\n",
    "py.iplot({'data':[Scatter(x=df.CRSDepTime, y=df.num_flights)],\n",
    "          'layout':Layout(title='Number of flights per Departure Time')} ,\n",
    "         filename='Number of flights & cancellations per Departure Time')"
   ]
  },
  {
   "cell_type": "code",
   "execution_count": 84,
   "metadata": {
    "collapsed": false
   },
   "outputs": [
    {
     "data": {
      "text/html": [
       "<iframe id=\"igraph\" scrolling=\"no\" style=\"border:none;\" seamless=\"seamless\" src=\"https://plot.ly/~andreaque/26.embed\" height=\"525px\" width=\"100%\"></iframe>"
      ],
      "text/plain": [
       "<plotly.tools.PlotlyDisplay object>"
      ]
     },
     "execution_count": 84,
     "metadata": {},
     "output_type": "execute_result"
    }
   ],
   "source": [
    "# 9 - Amount of flights that departure at a concrete time\n",
    "py.iplot({'data':[Scatter(x=df.CRSDepTime, y=df.cancellations)],\n",
    "          'layout':Layout(title='Number of cancellations per Departure Time')} ,\n",
    "         filename='Number of cancellations per Departure Time')"
   ]
  },
  {
   "cell_type": "code",
   "execution_count": 85,
   "metadata": {
    "collapsed": false
   },
   "outputs": [
    {
     "name": "stdout",
     "output_type": "stream",
     "text": [
      "Wall time: 4min 35s\n"
     ]
    }
   ],
   "source": [
    "%%time\n",
    "# 11 and 12 - Number of flights and cancellations per Month (1987-2008)\n",
    "df = pd.read_sql_query('SELECT Month, COUNT(*) as `num_flights`, SUM(Cancelled) AS cancellations '\n",
    "                       'FROM data '\n",
    "                       'GROUP BY Month '\n",
    "                       'ORDER BY Month ', disk_engine)"
   ]
  },
  {
   "cell_type": "code",
   "execution_count": 78,
   "metadata": {
    "collapsed": false
   },
   "outputs": [
    {
     "data": {
      "text/html": [
       "<div>\n",
       "<table border=\"1\" class=\"dataframe\">\n",
       "  <thead>\n",
       "    <tr style=\"text-align: right;\">\n",
       "      <th></th>\n",
       "      <th>Month</th>\n",
       "      <th>num_flights</th>\n",
       "      <th>cancellations</th>\n",
       "    </tr>\n",
       "  </thead>\n",
       "  <tbody>\n",
       "    <tr>\n",
       "      <th>0</th>\n",
       "      <td>1</td>\n",
       "      <td>10272489</td>\n",
       "      <td>322248</td>\n",
       "    </tr>\n",
       "    <tr>\n",
       "      <th>1</th>\n",
       "      <td>2</td>\n",
       "      <td>9431225</td>\n",
       "      <td>248669</td>\n",
       "    </tr>\n",
       "    <tr>\n",
       "      <th>2</th>\n",
       "      <td>3</td>\n",
       "      <td>10448039</td>\n",
       "      <td>212262</td>\n",
       "    </tr>\n",
       "    <tr>\n",
       "      <th>3</th>\n",
       "      <td>4</td>\n",
       "      <td>10081982</td>\n",
       "      <td>125717</td>\n",
       "    </tr>\n",
       "    <tr>\n",
       "      <th>4</th>\n",
       "      <td>5</td>\n",
       "      <td>10330467</td>\n",
       "      <td>126818</td>\n",
       "    </tr>\n",
       "    <tr>\n",
       "      <th>5</th>\n",
       "      <td>6</td>\n",
       "      <td>10226946</td>\n",
       "      <td>165995</td>\n",
       "    </tr>\n",
       "    <tr>\n",
       "      <th>6</th>\n",
       "      <td>7</td>\n",
       "      <td>10571942</td>\n",
       "      <td>166524</td>\n",
       "    </tr>\n",
       "    <tr>\n",
       "      <th>7</th>\n",
       "      <td>8</td>\n",
       "      <td>10646835</td>\n",
       "      <td>166794</td>\n",
       "    </tr>\n",
       "    <tr>\n",
       "      <th>8</th>\n",
       "      <td>9</td>\n",
       "      <td>9975954</td>\n",
       "      <td>265061</td>\n",
       "    </tr>\n",
       "    <tr>\n",
       "      <th>9</th>\n",
       "      <td>10</td>\n",
       "      <td>10758658</td>\n",
       "      <td>134388</td>\n",
       "    </tr>\n",
       "    <tr>\n",
       "      <th>10</th>\n",
       "      <td>11</td>\n",
       "      <td>10218176</td>\n",
       "      <td>125665</td>\n",
       "    </tr>\n",
       "    <tr>\n",
       "      <th>11</th>\n",
       "      <td>12</td>\n",
       "      <td>10559041</td>\n",
       "      <td>242874</td>\n",
       "    </tr>\n",
       "  </tbody>\n",
       "</table>\n",
       "</div>"
      ],
      "text/plain": [
       "    Month  num_flights  cancellations\n",
       "0       1     10272489         322248\n",
       "1       2      9431225         248669\n",
       "2       3     10448039         212262\n",
       "3       4     10081982         125717\n",
       "4       5     10330467         126818\n",
       "5       6     10226946         165995\n",
       "6       7     10571942         166524\n",
       "7       8     10646835         166794\n",
       "8       9      9975954         265061\n",
       "9      10     10758658         134388\n",
       "10     11     10218176         125665\n",
       "11     12     10559041         242874"
      ]
     },
     "execution_count": 78,
     "metadata": {},
     "output_type": "execute_result"
    }
   ],
   "source": [
    "# 11 and 12 - Number of flights and cancellations per Month (1987-2008)\n",
    "df"
   ]
  },
  {
   "cell_type": "code",
   "execution_count": 81,
   "metadata": {
    "collapsed": false
   },
   "outputs": [
    {
     "data": {
      "text/html": [
       "<iframe id=\"igraph\" scrolling=\"no\" style=\"border:none;\" seamless=\"seamless\" src=\"https://plot.ly/~andreaque/24.embed\" height=\"525px\" width=\"100%\"></iframe>"
      ],
      "text/plain": [
       "<plotly.tools.PlotlyDisplay object>"
      ]
     },
     "execution_count": 81,
     "metadata": {},
     "output_type": "execute_result"
    }
   ],
   "source": [
    "# 11 - Number of flights per Month (1987-2008)\n",
    "trace0=go.Scatter(x=df.Month,y=df.num_flights)\n",
    "\n",
    "traces = [trace0]\n",
    "\n",
    "py.iplot({'data':traces,\n",
    "          'layout':Layout( title='Number of flights per Month')} ,\n",
    "         filename='Number of flights per Month')"
   ]
  },
  {
   "cell_type": "code",
   "execution_count": 86,
   "metadata": {
    "collapsed": false,
    "scrolled": true
   },
   "outputs": [
    {
     "data": {
      "text/html": [
       "<iframe id=\"igraph\" scrolling=\"no\" style=\"border:none;\" seamless=\"seamless\" src=\"https://plot.ly/~andreaque/10.embed\" height=\"525px\" width=\"100%\"></iframe>"
      ],
      "text/plain": [
       "<plotly.tools.PlotlyDisplay object>"
      ]
     },
     "execution_count": 86,
     "metadata": {},
     "output_type": "execute_result"
    }
   ],
   "source": [
    "# 12 - Number of cancellations per Month (1987-2008)\n",
    "trace0=go.Scatter(x=df.Month,y=df.cancellations)\n",
    "\n",
    "traces = [trace0]\n",
    "\n",
    "py.iplot({'data':traces,\n",
    "          'layout':Layout( title='Number of cancellations per Month')} ,\n",
    "         filename='Number of cancellations per Month')"
   ]
  },
  {
   "cell_type": "code",
   "execution_count": 4,
   "metadata": {
    "collapsed": false
   },
   "outputs": [
    {
     "name": "stdout",
     "output_type": "stream",
     "text": [
      "Wall time: 1min 45s\n"
     ]
    }
   ],
   "source": [
    "%%time\n",
    "#13 - Number of cancellations per Month in 2001\n",
    "df = pd.read_sql_query('SELECT Month, SUM(Cancelled) AS cancellations '\n",
    "                       'FROM data '\n",
    "                       'WHERE Year=\"2001\" '\n",
    "                       'GROUP BY Month '\n",
    "                       'ORDER BY Month ', disk_engine)"
   ]
  },
  {
   "cell_type": "code",
   "execution_count": 5,
   "metadata": {
    "collapsed": false
   },
   "outputs": [
    {
     "data": {
      "text/html": [
       "<iframe id=\"igraph\" scrolling=\"no\" style=\"border:none;\" seamless=\"seamless\" src=\"https://plot.ly/~andreaque/39.embed\" height=\"525px\" width=\"100%\"></iframe>"
      ],
      "text/plain": [
       "<plotly.tools.PlotlyDisplay object>"
      ]
     },
     "execution_count": 5,
     "metadata": {},
     "output_type": "execute_result"
    }
   ],
   "source": [
    "# 13 - Number of cancellations per Month in 2001\n",
    "trace0=go.Scatter(x=df.Month,y=df.cancellations)\n",
    "\n",
    "traces = [trace0]\n",
    "\n",
    "py.iplot({'data':traces,\n",
    "          'layout':Layout( title='Number of cancellations per Month in 2001')} ,\n",
    "         filename='Number of cancellations per Month in 2001')"
   ]
  },
  {
   "cell_type": "code",
   "execution_count": null,
   "metadata": {
    "collapsed": true
   },
   "outputs": [],
   "source": [
    "%%time\n",
    "df = pd.read_sql_query('SELECT Month, COUNT(*) as `num_flights`, SUM(Cancelled) AS cancellations '\n",
    "                       'FROM data '\n",
    "                       'GROUP BY Month '\n",
    "                       'ORDER BY Month ', disk_engine)"
   ]
  },
  {
   "cell_type": "code",
   "execution_count": null,
   "metadata": {
    "collapsed": true
   },
   "outputs": [],
   "source": [
    "air = pd.read_csv('airports.csv')\n",
    "sta = pd.read_csv('states.csv')\n",
    "codigos=[]\n",
    "\n",
    "\n",
    "i=0\n",
    "[codigos.append(air['state'][i]) and i+=1 if ori in air['iata'] else codigos.append(' ') and i+=1 for ori in df.Origin]\n",
    "\n",
    "   \n",
    "print codigos"
   ]
  },
  {
   "cell_type": "code",
   "execution_count": null,
   "metadata": {
    "collapsed": true
   },
   "outputs": [],
   "source": [
    "sta = pd.read_csv('states.csv')\n",
    "states=[]\n",
    "\n",
    "i=0\n",
    "[states.append(sta['state'][i]) and i+=1 if code in sta['code'] else states.append(' ') and i+=1 for code in codigos]\n",
    "    "
   ]
  },
  {
   "cell_type": "code",
   "execution_count": null,
   "metadata": {
    "collapsed": true
   },
   "outputs": [],
   "source": [
    "air = pd.read_csv('airports.csv')\n",
    "codigos=[]\n",
    "\n",
    "for ori in df['Origin']:\n",
    "    if ori=='None':\n",
    "        codigos.append(' ')\n",
    "    for i in range(len(air['iata'])):\n",
    "        if ori==air['iata'][i]:\n",
    "            codigos.append(air['state'][i])"
   ]
  },
  {
   "cell_type": "code",
   "execution_count": null,
   "metadata": {
    "collapsed": true
   },
   "outputs": [],
   "source": [
    "sta = pd.read_csv('states.csv')\n",
    "states=[]\n",
    "\n",
    "for code in codigos:\n",
    "    if code==' ':\n",
    "        states.append(' ')\n",
    "    for i in range(len(sta['code'])) :\n",
    "        if code==sta['code'][i]:\n",
    "            states.append(sta['state'][i])\n",
    "print states[:10]"
   ]
  },
  {
   "cell_type": "code",
   "execution_count": null,
   "metadata": {
    "collapsed": true
   },
   "outputs": [],
   "source": [
    "codigos.pop(336)\n",
    "\n",
    "print codigos\n",
    "\n",
    "for i in range(len(codigos)):\n",
    "    print i, codigos[i], states[i]\n",
    "    \n",
    "info = pd.DataFrame(\n",
    "    {'codes': codigos,\n",
    "     'states': states\n",
    "    })"
   ]
  }
 ],
 "metadata": {
  "anaconda-cloud": {},
  "kernelspec": {
   "display_name": "Python [conda root]",
   "language": "python",
   "name": "conda-root-py"
  },
  "language_info": {
   "codemirror_mode": {
    "name": "ipython",
    "version": 2
   },
   "file_extension": ".py",
   "mimetype": "text/x-python",
   "name": "python",
   "nbconvert_exporter": "python",
   "pygments_lexer": "ipython2",
   "version": "2.7.12"
  }
 },
 "nbformat": 4,
 "nbformat_minor": 1
}
